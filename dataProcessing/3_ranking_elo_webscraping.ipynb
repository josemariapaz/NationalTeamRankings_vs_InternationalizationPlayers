{
 "cells": [
  {
   "cell_type": "code",
   "execution_count": 1,
   "metadata": {},
   "outputs": [],
   "source": [
    "## Se importan los paquetes necesarios para trabajar\n",
    "import requests\n",
    "from bs4 import BeautifulSoup\n",
    "import re\n",
    "import pandas as pd\n",
    "import numpy as np\n",
    "from selenium import webdriver\n",
    "from selenium.webdriver.common.keys import Keys\n",
    "from time import sleep\n",
    "from selenium import webdriver\n",
    "from selenium.webdriver.support import expected_conditions as EC\n",
    "from selenium.webdriver.support.ui import WebDriverWait\n",
    "from selenium.webdriver.common.by import By\n",
    "import os"
   ]
  },
  {
   "cell_type": "code",
   "execution_count": 2,
   "metadata": {},
   "outputs": [],
   "source": [
    "## Se escrpean los datos del sitio web 'https://eloratings.net/'. Se obtienen los registros de las posiciones en el ranking\n",
    "## Elo de los paises de la CONMEBOL. Los campos que se obtienen son: año, equiponac (equipo nacional), rank (puesto en el\n",
    "## ranking Elo).\n",
    "\n",
    "chrome_driver = '*:/***/****/****/chromedriver' ## Aquí se debe incluir la dirección al webdriver para utilizar Selenium.\n",
    "                                                 ## Para mayor información: https://www.seleniumhq.org/projects/webdriver/\n",
    "                                                 ## Yo utilizo Chrome por lo que el webdriver es 'chromedriver'.\n",
    "        \n",
    "driver = webdriver.Chrome(chrome_driver)\n",
    "driver.implicitly_wait(10) \n",
    "equipos = ['Bolivia','Colombia','Argentina','Ecuador','Uruguay','Peru','Chile','Venezuela','Paraguay','Brazil']\n",
    "\n",
    "count = 0\n",
    "fecha = []\n",
    "año = []\n",
    "pais1 = []\n",
    "pais2 = []\n",
    "rank1 = []\n",
    "rank2 = []\n",
    "equiponac = []\n",
    "\n",
    "for equipo in equipos:\n",
    "    url = 'https://eloratings.net/'\n",
    "    driver.get(url)\n",
    "    WebDriverWait(driver, 20).until(EC.element_to_be_clickable((By.LINK_TEXT, equipo))).click()\n",
    "    tabla = driver.find_element_by_id(str('maintable_{}'.format(equipos[count])))\n",
    "    r = tabla.get_attribute('innerHTML')\n",
    "    soup = BeautifulSoup(r,'html.parser')\n",
    "    dato_fechas = soup.find_all(class_='slick-cell l0 r0 match-cell ')\n",
    "    dato_paises = soup.find_all(class_='slick-cell l1 r1 match-cell ')\n",
    "    dato_rank = soup.find_all(class_='slick-cell l7 r7 score-cell ')\n",
    "    sleep(2)\n",
    "\n",
    "    for i in range(len(dato_fechas)):\n",
    "        fecha_año = re.search(r'([A-Za-z]+\\s+\\d+).+(\\d\\d\\d\\d)',str(dato_fechas[i]))\n",
    "        fecha.append(fecha_año.group(1))\n",
    "        año.append(fecha_año.group(2))\n",
    "\n",
    "    for i in range(len(dato_paises)):\n",
    "        paises = re.search(r'>([A-Za-zç ]+)<.+>([A-Za-zç ]+)<',str(dato_paises[i]))\n",
    "        pais1.append(paises.group(1))\n",
    "        pais2.append(paises.group(2))    \n",
    "\n",
    "    for i in range(len(dato_rank)):\n",
    "        rankings = re.search(r'>(\\d+)<.+>(\\d+)<',str(dato_rank[i]))\n",
    "        rank1.append(rankings.group(1))\n",
    "        rank2.append(rankings.group(2))\n",
    "\n",
    "    for i in range(len(dato_rank)):\n",
    "        equiponac.append(equipos[count])\n",
    "        \n",
    "    count += 1\n",
    "\n",
    "driver.close()\n",
    "\n",
    "elo = pd.DataFrame({'año':año,'equiponac':equiponac,'pais1':pais1,'pais2':pais2,'rank1':rank1,'rank2':rank2})\n",
    "elo['rank'] = np.where((elo['equiponac']=='Bolivia')&(elo['pais1']=='Bolivia')|\n",
    "                       (elo['equiponac']=='Colombia')&(elo['pais1']=='Colombia')|\n",
    "                       (elo['equiponac']=='Argentina')&(elo['pais1']=='Argentina')|\n",
    "                       (elo['equiponac']=='Ecuador')&(elo['pais1']=='Ecuador')|\n",
    "                       (elo['equiponac']=='Uruguay')&(elo['pais1']=='Uruguay')|\n",
    "                       (elo['equiponac']=='Peru')&(elo['pais1']=='Peru')|\n",
    "                       (elo['equiponac']=='Chile')&(elo['pais1']=='Chile')|\n",
    "                       (elo['equiponac']=='Venezuela')&(elo['pais1']=='Venezuela')|\n",
    "                       (elo['equiponac']=='Paraguay')&(elo['pais1']=='Paraguay')|\n",
    "                       (elo['equiponac']=='Brazil')&(elo['pais1']=='Brazil')\n",
    "                                                      ,elo['rank1'],elo['rank2'])\n",
    "elo = elo.drop(['pais1','pais2','rank1','rank2'],axis=1)\n",
    "elo['rank'] = elo['rank'].astype(int)\n",
    "elo_agg = elo.groupby(['equiponac','año']).mean().reset_index()\n",
    "elo_agg['rank'] = round(elo_agg['rank'],2)"
   ]
  },
  {
   "cell_type": "code",
   "execution_count": 3,
   "metadata": {},
   "outputs": [],
   "source": [
    "path = os.getcwd()"
   ]
  },
  {
   "cell_type": "code",
   "execution_count": 4,
   "metadata": {},
   "outputs": [],
   "source": [
    "## Se graba el archivo equiposnac.csv con el dataset.\n",
    "elo_agg.to_csv(path+'\\\\elo_agg.csv')"
   ]
  }
 ],
 "metadata": {
  "kernelspec": {
   "display_name": "Python 3",
   "language": "python",
   "name": "python3"
  },
  "language_info": {
   "codemirror_mode": {
    "name": "ipython",
    "version": 3
   },
   "file_extension": ".py",
   "mimetype": "text/x-python",
   "name": "python",
   "nbconvert_exporter": "python",
   "pygments_lexer": "ipython3",
   "version": "3.7.1"
  }
 },
 "nbformat": 4,
 "nbformat_minor": 2
}
